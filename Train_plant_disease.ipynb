{
 "cells": [
  {
   "cell_type": "code",
   "execution_count": 3,
   "id": "c5cd0674-bb06-4b54-a45b-0405cbe6f205",
   "metadata": {},
   "outputs": [],
   "source": [
    "import tensorflow as tf\n",
    "import matplotlib.pyplot as plt\n",
    "import pandas as pd\n",
    "import seaborn as sns"
   ]
  },
  {
   "cell_type": "code",
   "execution_count": 4,
   "id": "502d9a4e-79eb-4215-bfcf-6636d1a0a74b",
   "metadata": {},
   "outputs": [
    {
     "name": "stdout",
     "output_type": "stream",
     "text": [
      "Found 70295 files belonging to 38 classes.\n"
     ]
    }
   ],
   "source": [
    "training_set = tf.keras.utils.image_dataset_from_directory(\n",
    "    'train',\n",
    "    labels=\"inferred\",\n",
    "    label_mode=\"categorical\",\n",
    "    class_names=None,\n",
    "    color_mode=\"rgb\",\n",
    "    batch_size=32,\n",
    "    image_size=(128, 128),\n",
    "    shuffle=True,\n",
    "    seed=None,\n",
    "    validation_split=None,\n",
    "    subset=None,\n",
    "    interpolation=\"bilinear\",\n",
    "    follow_links=False,\n",
    "    crop_to_aspect_ratio=False\n",
    ")"
   ]
  },
  {
   "cell_type": "code",
   "execution_count": 5,
   "id": "11477ba1-cebe-4e35-a1db-c553e005abfe",
   "metadata": {},
   "outputs": [
    {
     "name": "stdout",
     "output_type": "stream",
     "text": [
      "Found 17572 files belonging to 38 classes.\n"
     ]
    }
   ],
   "source": [
    "validation_set = tf.keras.utils.image_dataset_from_directory(\n",
    "    'valid',\n",
    "    labels=\"inferred\",\n",
    "    label_mode=\"categorical\",\n",
    "    class_names=None,\n",
    "    color_mode=\"rgb\",\n",
    "    batch_size=32,\n",
    "    image_size=(128, 128),\n",
    "    shuffle=True,\n",
    "    seed=None,\n",
    "    validation_split=None,\n",
    "    subset=None,\n",
    "    interpolation=\"bilinear\",\n",
    "    follow_links=False,\n",
    "    crop_to_aspect_ratio=False\n",
    ")"
   ]
  },
  {
   "cell_type": "code",
   "execution_count": 6,
   "id": "f2048e78-a0f5-4b38-ab33-8823f00779a4",
   "metadata": {},
   "outputs": [
    {
     "name": "stdout",
     "output_type": "stream",
     "text": [
      "tf.Tensor(\n",
      "[[[[148.5  143.5  150.5 ]\n",
      "   [139.25 134.25 141.25]\n",
      "   [143.5  138.5  145.5 ]\n",
      "   ...\n",
      "   [129.75 120.75 125.75]\n",
      "   [113.   104.   109.  ]\n",
      "   [113.75 104.75 109.75]]\n",
      "\n",
      "  [[133.75 128.75 135.75]\n",
      "   [144.75 139.75 146.75]\n",
      "   [142.5  137.5  144.5 ]\n",
      "   ...\n",
      "   [114.5  105.5  110.5 ]\n",
      "   [117.5  108.5  113.5 ]\n",
      "   [139.5  130.5  135.5 ]]\n",
      "\n",
      "  [[131.75 126.75 133.75]\n",
      "   [143.25 138.25 145.25]\n",
      "   [154.75 149.75 156.75]\n",
      "   ...\n",
      "   [129.75 120.75 125.75]\n",
      "   [128.5  119.5  124.5 ]\n",
      "   [123.   114.   119.  ]]\n",
      "\n",
      "  ...\n",
      "\n",
      "  [[180.25 175.25 179.25]\n",
      "   [179.75 174.75 178.75]\n",
      "   [166.75 161.75 165.75]\n",
      "   ...\n",
      "   [128.   119.   122.  ]\n",
      "   [131.25 122.25 125.25]\n",
      "   [131.75 122.75 125.75]]\n",
      "\n",
      "  [[178.5  173.5  177.5 ]\n",
      "   [175.75 170.75 174.75]\n",
      "   [156.5  151.5  155.5 ]\n",
      "   ...\n",
      "   [128.25 119.25 122.25]\n",
      "   [134.25 125.25 128.25]\n",
      "   [126.25 117.25 120.25]]\n",
      "\n",
      "  [[182.5  177.5  181.5 ]\n",
      "   [191.   186.   190.  ]\n",
      "   [194.   189.   193.  ]\n",
      "   ...\n",
      "   [131.   122.   125.  ]\n",
      "   [141.75 132.75 135.75]\n",
      "   [124.25 115.25 118.25]]]\n",
      "\n",
      "\n",
      " [[[147.5  135.5  149.5 ]\n",
      "   [166.   154.   168.  ]\n",
      "   [160.25 148.25 162.25]\n",
      "   ...\n",
      "   [101.5   88.5  105.5 ]\n",
      "   [106.    93.   110.  ]\n",
      "   [110.75  97.75 114.75]]\n",
      "\n",
      "  [[166.25 154.25 168.25]\n",
      "   [174.5  162.5  176.5 ]\n",
      "   [155.5  143.5  157.5 ]\n",
      "   ...\n",
      "   [ 99.5   86.5  103.5 ]\n",
      "   [101.75  88.75 105.75]\n",
      "   [ 95.75  82.75  99.75]]\n",
      "\n",
      "  [[175.25 163.25 177.25]\n",
      "   [156.75 144.75 158.75]\n",
      "   [169.75 157.75 171.75]\n",
      "   ...\n",
      "   [103.25  90.25 107.25]\n",
      "   [ 97.5   84.5  101.5 ]\n",
      "   [102.    89.   106.  ]]\n",
      "\n",
      "  ...\n",
      "\n",
      "  [[160.25 146.25 163.25]\n",
      "   [161.75 147.75 164.75]\n",
      "   [158.25 144.25 161.25]\n",
      "   ...\n",
      "   [133.75 116.75 134.75]\n",
      "   [135.75 118.75 136.75]\n",
      "   [139.5  122.5  140.5 ]]\n",
      "\n",
      "  [[164.5  150.5  167.5 ]\n",
      "   [166.   152.   169.  ]\n",
      "   [161.5  147.5  164.5 ]\n",
      "   ...\n",
      "   [149.   132.   150.  ]\n",
      "   [144.25 127.25 145.25]\n",
      "   [138.   121.   139.  ]]\n",
      "\n",
      "  [[167.5  153.5  170.5 ]\n",
      "   [165.5  151.5  168.5 ]\n",
      "   [168.   154.   171.  ]\n",
      "   ...\n",
      "   [137.5  120.5  138.5 ]\n",
      "   [131.25 114.25 132.25]\n",
      "   [135.   118.   136.  ]]]\n",
      "\n",
      "\n",
      " [[[177.5  163.5  162.5 ]\n",
      "   [185.25 171.25 170.25]\n",
      "   [179.   165.   164.  ]\n",
      "   ...\n",
      "   [168.   154.   153.  ]\n",
      "   [185.25 171.25 170.25]\n",
      "   [186.25 172.25 171.25]]\n",
      "\n",
      "  [[181.25 167.25 166.25]\n",
      "   [187.5  173.5  172.5 ]\n",
      "   [185.   171.   170.  ]\n",
      "   ...\n",
      "   [186.5  172.5  171.5 ]\n",
      "   [177.75 163.75 162.75]\n",
      "   [174.25 160.25 159.25]]\n",
      "\n",
      "  [[169.   155.   154.  ]\n",
      "   [192.   178.   177.  ]\n",
      "   [177.25 163.25 162.25]\n",
      "   ...\n",
      "   [174.5  160.5  159.5 ]\n",
      "   [171.25 157.25 156.25]\n",
      "   [173.   159.   158.  ]]\n",
      "\n",
      "  ...\n",
      "\n",
      "  [[ 43.25  50.25  66.25]\n",
      "   [ 39.25  48.25  63.25]\n",
      "   [ 39.25  48.25  65.25]\n",
      "   ...\n",
      "   [176.   164.   164.  ]\n",
      "   [173.75 161.75 161.75]\n",
      "   [198.75 186.75 186.75]]\n",
      "\n",
      "  [[ 42.25  49.25  65.25]\n",
      "   [ 39.75  48.75  63.75]\n",
      "   [ 41.    50.    67.  ]\n",
      "   ...\n",
      "   [180.25 168.25 168.25]\n",
      "   [185.5  173.5  173.5 ]\n",
      "   [165.25 153.25 153.25]]\n",
      "\n",
      "  [[ 38.    45.    61.  ]\n",
      "   [ 39.5   48.5   63.5 ]\n",
      "   [ 42.25  51.25  68.25]\n",
      "   ...\n",
      "   [164.   152.   152.  ]\n",
      "   [163.5  151.5  151.5 ]\n",
      "   [171.   159.   159.  ]]]\n",
      "\n",
      "\n",
      " ...\n",
      "\n",
      "\n",
      " [[[ 81.25  79.25  80.25]\n",
      "   [ 78.5   76.5   77.5 ]\n",
      "   [ 79.25  77.25  78.25]\n",
      "   ...\n",
      "   [115.5  119.5  118.5 ]\n",
      "   [112.25 116.25 115.25]\n",
      "   [116.25 120.25 119.25]]\n",
      "\n",
      "  [[ 84.25  82.25  83.25]\n",
      "   [ 84.25  82.25  83.25]\n",
      "   [ 84.25  82.25  83.25]\n",
      "   ...\n",
      "   [116.   120.   119.  ]\n",
      "   [115.5  119.5  118.5 ]\n",
      "   [120.5  124.5  123.5 ]]\n",
      "\n",
      "  [[ 84.5   82.5   83.5 ]\n",
      "   [ 89.75  87.75  88.75]\n",
      "   [ 92.5   90.5   91.5 ]\n",
      "   ...\n",
      "   [120.   124.   123.  ]\n",
      "   [116.   120.   119.  ]\n",
      "   [117.   121.   120.  ]]\n",
      "\n",
      "  ...\n",
      "\n",
      "  [[148.75 147.75 142.75]\n",
      "   [149.25 148.25 143.25]\n",
      "   [154.   153.   148.  ]\n",
      "   ...\n",
      "   [174.5  175.5  169.5 ]\n",
      "   [174.25 175.25 169.25]\n",
      "   [172.75 173.75 167.75]]\n",
      "\n",
      "  [[158.75 157.75 152.75]\n",
      "   [154.   153.   148.  ]\n",
      "   [157.25 156.25 151.25]\n",
      "   ...\n",
      "   [174.   175.   169.  ]\n",
      "   [173.   174.   168.  ]\n",
      "   [171.   172.   166.  ]]\n",
      "\n",
      "  [[164.   163.   158.  ]\n",
      "   [150.75 149.75 144.75]\n",
      "   [151.5  150.5  145.5 ]\n",
      "   ...\n",
      "   [173.25 174.25 168.25]\n",
      "   [169.5  170.5  164.5 ]\n",
      "   [166.   167.   161.  ]]]\n",
      "\n",
      "\n",
      " [[[132.75 120.75 120.75]\n",
      "   [140.25 128.25 128.25]\n",
      "   [139.   127.   127.  ]\n",
      "   ...\n",
      "   [137.25 123.25 122.25]\n",
      "   [131.75 117.75 116.75]\n",
      "   [140.   126.   125.  ]]\n",
      "\n",
      "  [[135.   123.   123.  ]\n",
      "   [140.75 128.75 128.75]\n",
      "   [138.5  126.5  126.5 ]\n",
      "   ...\n",
      "   [135.75 121.75 120.75]\n",
      "   [141.25 127.25 126.25]\n",
      "   [141.25 127.25 126.25]]\n",
      "\n",
      "  [[142.75 130.75 130.75]\n",
      "   [134.5  122.5  122.5 ]\n",
      "   [135.   123.   123.  ]\n",
      "   ...\n",
      "   [145.   131.   130.  ]\n",
      "   [132.   118.   117.  ]\n",
      "   [143.75 129.75 128.75]]\n",
      "\n",
      "  ...\n",
      "\n",
      "  [[149.   138.   144.  ]\n",
      "   [147.75 136.75 142.75]\n",
      "   [146.25 135.25 141.25]\n",
      "   ...\n",
      "   [159.   148.   152.  ]\n",
      "   [155.75 144.75 148.75]\n",
      "   [148.5  137.5  141.5 ]]\n",
      "\n",
      "  [[149.75 138.75 144.75]\n",
      "   [149.5  138.5  144.5 ]\n",
      "   [146.25 135.25 141.25]\n",
      "   ...\n",
      "   [162.   151.   155.  ]\n",
      "   [156.75 145.75 149.75]\n",
      "   [158.   147.   151.  ]]\n",
      "\n",
      "  [[152.5  141.5  147.5 ]\n",
      "   [151.   140.   146.  ]\n",
      "   [144.25 133.25 139.25]\n",
      "   ...\n",
      "   [154.5  143.5  147.5 ]\n",
      "   [147.   136.   140.  ]\n",
      "   [149.25 138.25 142.25]]]\n",
      "\n",
      "\n",
      " [[[ 88.25  79.5   79.  ]\n",
      "   [160.   150.   149.  ]\n",
      "   [168.25 158.25 157.25]\n",
      "   ...\n",
      "   [174.   162.   162.  ]\n",
      "   [176.5  164.5  164.5 ]\n",
      "   [170.   158.   158.  ]]\n",
      "\n",
      "  [[ 88.    78.75  78.  ]\n",
      "   [167.5  157.5  156.5 ]\n",
      "   [180.   170.   169.  ]\n",
      "   ...\n",
      "   [190.25 178.25 178.25]\n",
      "   [184.5  172.5  172.5 ]\n",
      "   [175.25 163.25 163.25]]\n",
      "\n",
      "  [[ 89.    79.75  79.  ]\n",
      "   [173.5  163.5  162.5 ]\n",
      "   [173.   163.   162.  ]\n",
      "   ...\n",
      "   [172.75 160.75 160.75]\n",
      "   [177.5  165.5  165.5 ]\n",
      "   [172.25 160.25 160.25]]\n",
      "\n",
      "  ...\n",
      "\n",
      "  [[ 80.25  69.75  68.75]\n",
      "   [151.   140.   138.  ]\n",
      "   [161.   147.   146.  ]\n",
      "   ...\n",
      "   [177.5  165.5  169.5 ]\n",
      "   [141.   129.   133.  ]\n",
      "   [157.75 145.75 149.75]]\n",
      "\n",
      "  [[ 80.75  70.    69.  ]\n",
      "   [149.5  138.5  136.5 ]\n",
      "   [164.75 150.75 149.75]\n",
      "   ...\n",
      "   [143.   131.   135.  ]\n",
      "   [142.5  130.5  134.5 ]\n",
      "   [152.75 140.75 144.75]]\n",
      "\n",
      "  [[ 80.    69.75  68.75]\n",
      "   [145.75 134.75 132.75]\n",
      "   [169.   155.   154.  ]\n",
      "   ...\n",
      "   [158.25 146.25 150.25]\n",
      "   [150.   138.   142.  ]\n",
      "   [142.75 130.75 134.75]]]], shape=(32, 128, 128, 3), dtype=float32) (32, 128, 128, 3)\n",
      "tf.Tensor(\n",
      "[[0. 0. 0. ... 0. 0. 0.]\n",
      " [0. 0. 0. ... 0. 1. 0.]\n",
      " [0. 0. 0. ... 0. 0. 0.]\n",
      " ...\n",
      " [0. 0. 0. ... 1. 0. 0.]\n",
      " [0. 0. 0. ... 0. 0. 0.]\n",
      " [0. 1. 0. ... 0. 0. 0.]], shape=(32, 38), dtype=float32) (32, 38)\n"
     ]
    }
   ],
   "source": [
    "for x,y in training_set:\n",
    "    print(x,x.shape)\n",
    "    print(y,y.shape)\n",
    "    break"
   ]
  },
  {
   "cell_type": "code",
   "execution_count": 7,
   "id": "66fbe0c0-8f2a-4cfe-9b9f-5530977123cc",
   "metadata": {},
   "outputs": [],
   "source": [
    "from tensorflow.keras.layers import Dense,Conv2D,Dropout\n",
    "from tensorflow.keras.models import Sequential\n"
   ]
  },
  {
   "cell_type": "code",
   "execution_count": 8,
   "id": "f948cd4e-96c7-435b-be23-16ca3143b7bc",
   "metadata": {},
   "outputs": [],
   "source": [
    "model = Sequential()"
   ]
  },
  {
   "cell_type": "code",
   "execution_count": 9,
   "id": "0fad12a9-de95-4abc-b57b-aa348c386fce",
   "metadata": {},
   "outputs": [],
   "source": [
    "import tensorflow as tf\n",
    "from tensorflow.keras import layers, models\n",
    "from tensorflow.keras.layers import Conv2D, MaxPool2D,Flatten,Dense,Dropout\n"
   ]
  },
  {
   "cell_type": "code",
   "execution_count": 11,
   "id": "ea20ba8c-2866-4ad7-b08e-f7e494411357",
   "metadata": {},
   "outputs": [],
   "source": [
    "# Add Convolutional Layers\n",
    "model.add(Conv2D(filters=32, kernel_size=3, padding='same', activation='relu', input_shape=(128, 128, 3)))\n",
    "model.add(Conv2D(filters=32, kernel_size=3, padding='same', activation='relu'))\n",
    "model.add(MaxPool2D(pool_size=2, strides=2))"
   ]
  },
  {
   "cell_type": "code",
   "execution_count": 12,
   "id": "6d856fd5-c870-4833-8500-3afd8ec17eb8",
   "metadata": {},
   "outputs": [],
   "source": [
    "# Add Convolutional Layers\n",
    "model.add(Conv2D(filters=64, kernel_size=3, padding='same', activation='relu'))\n",
    "model.add(Conv2D(filters=64, kernel_size=3, padding='same', activation='relu'))\n",
    "model.add(MaxPool2D(pool_size=2, strides=2))"
   ]
  },
  {
   "cell_type": "code",
   "execution_count": 13,
   "id": "bdea5df6-c9df-402e-b47a-a4c8d66f2fc0",
   "metadata": {},
   "outputs": [],
   "source": [
    "# Add Convolutional Layers\n",
    "model.add(Conv2D(filters=128, kernel_size=3, padding='same', activation='relu'))\n",
    "model.add(Conv2D(filters=128, kernel_size=3,  padding='same',activation='relu'))\n",
    "model.add(MaxPool2D(pool_size=2, strides=2))"
   ]
  },
  {
   "cell_type": "code",
   "execution_count": 14,
   "id": "416b2d3b-9a38-486b-80fc-c4c9ed9471c7",
   "metadata": {},
   "outputs": [],
   "source": [
    "# Add Convolutional Layers\n",
    "model.add(Conv2D(filters=256, kernel_size=3, padding='same', activation='relu'))\n",
    "model.add(Conv2D(filters=256, kernel_size=3,  padding='same',activation='relu'))\n",
    "model.add(MaxPool2D(pool_size=2, strides=2))"
   ]
  },
  {
   "cell_type": "code",
   "execution_count": 15,
   "id": "2d01a2c7-edfd-42f9-9466-8b499a465f72",
   "metadata": {},
   "outputs": [],
   "source": [
    "# Add Convolutional Layers\n",
    "model.add(Conv2D(filters=512, kernel_size=3, padding='same', activation='relu'))\n",
    "model.add(Conv2D(filters=512, kernel_size=3, padding='same', activation='relu'))\n",
    "model.add(MaxPool2D(pool_size=2, strides=2))"
   ]
  },
  {
   "cell_type": "code",
   "execution_count": 16,
   "id": "5cabb24d-a3dd-477e-82e2-f51663c01c67",
   "metadata": {},
   "outputs": [],
   "source": [
    "\n",
    "# Add Dropout Layer\n",
    "model.add(Dropout(0.25))"
   ]
  },
  {
   "cell_type": "code",
   "execution_count": 17,
   "id": "ce094cad-6efb-4466-adbb-ba19fc562343",
   "metadata": {},
   "outputs": [],
   "source": [
    "# Flatten the output\n",
    "model.add(Flatten())"
   ]
  },
  {
   "cell_type": "code",
   "execution_count": 18,
   "id": "f27f133e-1bba-4261-a83f-29531f6c68e5",
   "metadata": {},
   "outputs": [],
   "source": [
    "model.add(Dense(units=1500, activation='relu'))"
   ]
  },
  {
   "cell_type": "code",
   "execution_count": 19,
   "id": "e156e165-5099-40cb-9e88-2a016554a118",
   "metadata": {},
   "outputs": [],
   "source": [
    "model.add(Dropout(0.4))"
   ]
  },
  {
   "cell_type": "code",
   "execution_count": 20,
   "id": "372e966a-f679-40c0-ba25-a3e3833622c6",
   "metadata": {},
   "outputs": [],
   "source": [
    "num_classes = len(training_set.class_names)"
   ]
  },
  {
   "cell_type": "code",
   "execution_count": 21,
   "id": "1eb75427-09d1-4760-9a16-33f75b3803fc",
   "metadata": {},
   "outputs": [],
   "source": [
    "model.add(layers.Dense(512, activation='relu'))\n",
    "model.add(layers.Dense(256, activation='relu'))\n",
    "model.add(layers.Dense(num_classes, activation='softmax'))\n"
   ]
  },
  {
   "cell_type": "code",
   "execution_count": 22,
   "id": "99100970-278f-4254-93fd-2bd3e3b86a49",
   "metadata": {},
   "outputs": [
    {
     "data": {
      "text/html": [
       "<pre style=\"white-space:pre;overflow-x:auto;line-height:normal;font-family:Menlo,'DejaVu Sans Mono',consolas,'Courier New',monospace\"><span style=\"font-weight: bold\">Model: \"sequential\"</span>\n",
       "</pre>\n"
      ],
      "text/plain": [
       "\u001b[1mModel: \"sequential\"\u001b[0m\n"
      ]
     },
     "metadata": {},
     "output_type": "display_data"
    },
    {
     "data": {
      "text/html": [
       "<pre style=\"white-space:pre;overflow-x:auto;line-height:normal;font-family:Menlo,'DejaVu Sans Mono',consolas,'Courier New',monospace\">┏━━━━━━━━━━━━━━━━━━━━━━━━━━━━━━━━━━━━━━┳━━━━━━━━━━━━━━━━━━━━━━━━━━━━━┳━━━━━━━━━━━━━━━━━┓\n",
       "┃<span style=\"font-weight: bold\"> Layer (type)                         </span>┃<span style=\"font-weight: bold\"> Output Shape                </span>┃<span style=\"font-weight: bold\">         Param # </span>┃\n",
       "┡━━━━━━━━━━━━━━━━━━━━━━━━━━━━━━━━━━━━━━╇━━━━━━━━━━━━━━━━━━━━━━━━━━━━━╇━━━━━━━━━━━━━━━━━┩\n",
       "│ conv2d (<span style=\"color: #0087ff; text-decoration-color: #0087ff\">Conv2D</span>)                      │ (<span style=\"color: #00d7ff; text-decoration-color: #00d7ff\">None</span>, <span style=\"color: #00af00; text-decoration-color: #00af00\">128</span>, <span style=\"color: #00af00; text-decoration-color: #00af00\">128</span>, <span style=\"color: #00af00; text-decoration-color: #00af00\">32</span>)        │             <span style=\"color: #00af00; text-decoration-color: #00af00\">896</span> │\n",
       "├──────────────────────────────────────┼─────────────────────────────┼─────────────────┤\n",
       "│ conv2d_1 (<span style=\"color: #0087ff; text-decoration-color: #0087ff\">Conv2D</span>)                    │ (<span style=\"color: #00d7ff; text-decoration-color: #00d7ff\">None</span>, <span style=\"color: #00af00; text-decoration-color: #00af00\">128</span>, <span style=\"color: #00af00; text-decoration-color: #00af00\">128</span>, <span style=\"color: #00af00; text-decoration-color: #00af00\">32</span>)        │           <span style=\"color: #00af00; text-decoration-color: #00af00\">9,248</span> │\n",
       "├──────────────────────────────────────┼─────────────────────────────┼─────────────────┤\n",
       "│ max_pooling2d (<span style=\"color: #0087ff; text-decoration-color: #0087ff\">MaxPooling2D</span>)         │ (<span style=\"color: #00d7ff; text-decoration-color: #00d7ff\">None</span>, <span style=\"color: #00af00; text-decoration-color: #00af00\">64</span>, <span style=\"color: #00af00; text-decoration-color: #00af00\">64</span>, <span style=\"color: #00af00; text-decoration-color: #00af00\">32</span>)          │               <span style=\"color: #00af00; text-decoration-color: #00af00\">0</span> │\n",
       "├──────────────────────────────────────┼─────────────────────────────┼─────────────────┤\n",
       "│ conv2d_2 (<span style=\"color: #0087ff; text-decoration-color: #0087ff\">Conv2D</span>)                    │ (<span style=\"color: #00d7ff; text-decoration-color: #00d7ff\">None</span>, <span style=\"color: #00af00; text-decoration-color: #00af00\">64</span>, <span style=\"color: #00af00; text-decoration-color: #00af00\">64</span>, <span style=\"color: #00af00; text-decoration-color: #00af00\">32</span>)          │           <span style=\"color: #00af00; text-decoration-color: #00af00\">9,248</span> │\n",
       "├──────────────────────────────────────┼─────────────────────────────┼─────────────────┤\n",
       "│ conv2d_3 (<span style=\"color: #0087ff; text-decoration-color: #0087ff\">Conv2D</span>)                    │ (<span style=\"color: #00d7ff; text-decoration-color: #00d7ff\">None</span>, <span style=\"color: #00af00; text-decoration-color: #00af00\">64</span>, <span style=\"color: #00af00; text-decoration-color: #00af00\">64</span>, <span style=\"color: #00af00; text-decoration-color: #00af00\">32</span>)          │           <span style=\"color: #00af00; text-decoration-color: #00af00\">9,248</span> │\n",
       "├──────────────────────────────────────┼─────────────────────────────┼─────────────────┤\n",
       "│ max_pooling2d_1 (<span style=\"color: #0087ff; text-decoration-color: #0087ff\">MaxPooling2D</span>)       │ (<span style=\"color: #00d7ff; text-decoration-color: #00d7ff\">None</span>, <span style=\"color: #00af00; text-decoration-color: #00af00\">32</span>, <span style=\"color: #00af00; text-decoration-color: #00af00\">32</span>, <span style=\"color: #00af00; text-decoration-color: #00af00\">32</span>)          │               <span style=\"color: #00af00; text-decoration-color: #00af00\">0</span> │\n",
       "├──────────────────────────────────────┼─────────────────────────────┼─────────────────┤\n",
       "│ conv2d_4 (<span style=\"color: #0087ff; text-decoration-color: #0087ff\">Conv2D</span>)                    │ (<span style=\"color: #00d7ff; text-decoration-color: #00d7ff\">None</span>, <span style=\"color: #00af00; text-decoration-color: #00af00\">32</span>, <span style=\"color: #00af00; text-decoration-color: #00af00\">32</span>, <span style=\"color: #00af00; text-decoration-color: #00af00\">64</span>)          │          <span style=\"color: #00af00; text-decoration-color: #00af00\">18,496</span> │\n",
       "├──────────────────────────────────────┼─────────────────────────────┼─────────────────┤\n",
       "│ conv2d_5 (<span style=\"color: #0087ff; text-decoration-color: #0087ff\">Conv2D</span>)                    │ (<span style=\"color: #00d7ff; text-decoration-color: #00d7ff\">None</span>, <span style=\"color: #00af00; text-decoration-color: #00af00\">32</span>, <span style=\"color: #00af00; text-decoration-color: #00af00\">32</span>, <span style=\"color: #00af00; text-decoration-color: #00af00\">64</span>)          │          <span style=\"color: #00af00; text-decoration-color: #00af00\">36,928</span> │\n",
       "├──────────────────────────────────────┼─────────────────────────────┼─────────────────┤\n",
       "│ max_pooling2d_2 (<span style=\"color: #0087ff; text-decoration-color: #0087ff\">MaxPooling2D</span>)       │ (<span style=\"color: #00d7ff; text-decoration-color: #00d7ff\">None</span>, <span style=\"color: #00af00; text-decoration-color: #00af00\">16</span>, <span style=\"color: #00af00; text-decoration-color: #00af00\">16</span>, <span style=\"color: #00af00; text-decoration-color: #00af00\">64</span>)          │               <span style=\"color: #00af00; text-decoration-color: #00af00\">0</span> │\n",
       "├──────────────────────────────────────┼─────────────────────────────┼─────────────────┤\n",
       "│ conv2d_6 (<span style=\"color: #0087ff; text-decoration-color: #0087ff\">Conv2D</span>)                    │ (<span style=\"color: #00d7ff; text-decoration-color: #00d7ff\">None</span>, <span style=\"color: #00af00; text-decoration-color: #00af00\">16</span>, <span style=\"color: #00af00; text-decoration-color: #00af00\">16</span>, <span style=\"color: #00af00; text-decoration-color: #00af00\">128</span>)         │          <span style=\"color: #00af00; text-decoration-color: #00af00\">73,856</span> │\n",
       "├──────────────────────────────────────┼─────────────────────────────┼─────────────────┤\n",
       "│ conv2d_7 (<span style=\"color: #0087ff; text-decoration-color: #0087ff\">Conv2D</span>)                    │ (<span style=\"color: #00d7ff; text-decoration-color: #00d7ff\">None</span>, <span style=\"color: #00af00; text-decoration-color: #00af00\">16</span>, <span style=\"color: #00af00; text-decoration-color: #00af00\">16</span>, <span style=\"color: #00af00; text-decoration-color: #00af00\">128</span>)         │         <span style=\"color: #00af00; text-decoration-color: #00af00\">147,584</span> │\n",
       "├──────────────────────────────────────┼─────────────────────────────┼─────────────────┤\n",
       "│ max_pooling2d_3 (<span style=\"color: #0087ff; text-decoration-color: #0087ff\">MaxPooling2D</span>)       │ (<span style=\"color: #00d7ff; text-decoration-color: #00d7ff\">None</span>, <span style=\"color: #00af00; text-decoration-color: #00af00\">8</span>, <span style=\"color: #00af00; text-decoration-color: #00af00\">8</span>, <span style=\"color: #00af00; text-decoration-color: #00af00\">128</span>)           │               <span style=\"color: #00af00; text-decoration-color: #00af00\">0</span> │\n",
       "├──────────────────────────────────────┼─────────────────────────────┼─────────────────┤\n",
       "│ conv2d_8 (<span style=\"color: #0087ff; text-decoration-color: #0087ff\">Conv2D</span>)                    │ (<span style=\"color: #00d7ff; text-decoration-color: #00d7ff\">None</span>, <span style=\"color: #00af00; text-decoration-color: #00af00\">8</span>, <span style=\"color: #00af00; text-decoration-color: #00af00\">8</span>, <span style=\"color: #00af00; text-decoration-color: #00af00\">256</span>)           │         <span style=\"color: #00af00; text-decoration-color: #00af00\">295,168</span> │\n",
       "├──────────────────────────────────────┼─────────────────────────────┼─────────────────┤\n",
       "│ conv2d_9 (<span style=\"color: #0087ff; text-decoration-color: #0087ff\">Conv2D</span>)                    │ (<span style=\"color: #00d7ff; text-decoration-color: #00d7ff\">None</span>, <span style=\"color: #00af00; text-decoration-color: #00af00\">8</span>, <span style=\"color: #00af00; text-decoration-color: #00af00\">8</span>, <span style=\"color: #00af00; text-decoration-color: #00af00\">256</span>)           │         <span style=\"color: #00af00; text-decoration-color: #00af00\">590,080</span> │\n",
       "├──────────────────────────────────────┼─────────────────────────────┼─────────────────┤\n",
       "│ max_pooling2d_4 (<span style=\"color: #0087ff; text-decoration-color: #0087ff\">MaxPooling2D</span>)       │ (<span style=\"color: #00d7ff; text-decoration-color: #00d7ff\">None</span>, <span style=\"color: #00af00; text-decoration-color: #00af00\">4</span>, <span style=\"color: #00af00; text-decoration-color: #00af00\">4</span>, <span style=\"color: #00af00; text-decoration-color: #00af00\">256</span>)           │               <span style=\"color: #00af00; text-decoration-color: #00af00\">0</span> │\n",
       "├──────────────────────────────────────┼─────────────────────────────┼─────────────────┤\n",
       "│ conv2d_10 (<span style=\"color: #0087ff; text-decoration-color: #0087ff\">Conv2D</span>)                   │ (<span style=\"color: #00d7ff; text-decoration-color: #00d7ff\">None</span>, <span style=\"color: #00af00; text-decoration-color: #00af00\">4</span>, <span style=\"color: #00af00; text-decoration-color: #00af00\">4</span>, <span style=\"color: #00af00; text-decoration-color: #00af00\">512</span>)           │       <span style=\"color: #00af00; text-decoration-color: #00af00\">1,180,160</span> │\n",
       "├──────────────────────────────────────┼─────────────────────────────┼─────────────────┤\n",
       "│ conv2d_11 (<span style=\"color: #0087ff; text-decoration-color: #0087ff\">Conv2D</span>)                   │ (<span style=\"color: #00d7ff; text-decoration-color: #00d7ff\">None</span>, <span style=\"color: #00af00; text-decoration-color: #00af00\">4</span>, <span style=\"color: #00af00; text-decoration-color: #00af00\">4</span>, <span style=\"color: #00af00; text-decoration-color: #00af00\">512</span>)           │       <span style=\"color: #00af00; text-decoration-color: #00af00\">2,359,808</span> │\n",
       "├──────────────────────────────────────┼─────────────────────────────┼─────────────────┤\n",
       "│ max_pooling2d_5 (<span style=\"color: #0087ff; text-decoration-color: #0087ff\">MaxPooling2D</span>)       │ (<span style=\"color: #00d7ff; text-decoration-color: #00d7ff\">None</span>, <span style=\"color: #00af00; text-decoration-color: #00af00\">2</span>, <span style=\"color: #00af00; text-decoration-color: #00af00\">2</span>, <span style=\"color: #00af00; text-decoration-color: #00af00\">512</span>)           │               <span style=\"color: #00af00; text-decoration-color: #00af00\">0</span> │\n",
       "├──────────────────────────────────────┼─────────────────────────────┼─────────────────┤\n",
       "│ dropout (<span style=\"color: #0087ff; text-decoration-color: #0087ff\">Dropout</span>)                    │ (<span style=\"color: #00d7ff; text-decoration-color: #00d7ff\">None</span>, <span style=\"color: #00af00; text-decoration-color: #00af00\">2</span>, <span style=\"color: #00af00; text-decoration-color: #00af00\">2</span>, <span style=\"color: #00af00; text-decoration-color: #00af00\">512</span>)           │               <span style=\"color: #00af00; text-decoration-color: #00af00\">0</span> │\n",
       "├──────────────────────────────────────┼─────────────────────────────┼─────────────────┤\n",
       "│ flatten (<span style=\"color: #0087ff; text-decoration-color: #0087ff\">Flatten</span>)                    │ (<span style=\"color: #00d7ff; text-decoration-color: #00d7ff\">None</span>, <span style=\"color: #00af00; text-decoration-color: #00af00\">2048</span>)                │               <span style=\"color: #00af00; text-decoration-color: #00af00\">0</span> │\n",
       "├──────────────────────────────────────┼─────────────────────────────┼─────────────────┤\n",
       "│ dense (<span style=\"color: #0087ff; text-decoration-color: #0087ff\">Dense</span>)                        │ (<span style=\"color: #00d7ff; text-decoration-color: #00d7ff\">None</span>, <span style=\"color: #00af00; text-decoration-color: #00af00\">1500</span>)                │       <span style=\"color: #00af00; text-decoration-color: #00af00\">3,073,500</span> │\n",
       "├──────────────────────────────────────┼─────────────────────────────┼─────────────────┤\n",
       "│ dropout_1 (<span style=\"color: #0087ff; text-decoration-color: #0087ff\">Dropout</span>)                  │ (<span style=\"color: #00d7ff; text-decoration-color: #00d7ff\">None</span>, <span style=\"color: #00af00; text-decoration-color: #00af00\">1500</span>)                │               <span style=\"color: #00af00; text-decoration-color: #00af00\">0</span> │\n",
       "├──────────────────────────────────────┼─────────────────────────────┼─────────────────┤\n",
       "│ dense_1 (<span style=\"color: #0087ff; text-decoration-color: #0087ff\">Dense</span>)                      │ (<span style=\"color: #00d7ff; text-decoration-color: #00d7ff\">None</span>, <span style=\"color: #00af00; text-decoration-color: #00af00\">512</span>)                 │         <span style=\"color: #00af00; text-decoration-color: #00af00\">768,512</span> │\n",
       "├──────────────────────────────────────┼─────────────────────────────┼─────────────────┤\n",
       "│ dense_2 (<span style=\"color: #0087ff; text-decoration-color: #0087ff\">Dense</span>)                      │ (<span style=\"color: #00d7ff; text-decoration-color: #00d7ff\">None</span>, <span style=\"color: #00af00; text-decoration-color: #00af00\">256</span>)                 │         <span style=\"color: #00af00; text-decoration-color: #00af00\">131,328</span> │\n",
       "├──────────────────────────────────────┼─────────────────────────────┼─────────────────┤\n",
       "│ dense_3 (<span style=\"color: #0087ff; text-decoration-color: #0087ff\">Dense</span>)                      │ (<span style=\"color: #00d7ff; text-decoration-color: #00d7ff\">None</span>, <span style=\"color: #00af00; text-decoration-color: #00af00\">38</span>)                  │           <span style=\"color: #00af00; text-decoration-color: #00af00\">9,766</span> │\n",
       "└──────────────────────────────────────┴─────────────────────────────┴─────────────────┘\n",
       "</pre>\n"
      ],
      "text/plain": [
       "┏━━━━━━━━━━━━━━━━━━━━━━━━━━━━━━━━━━━━━━┳━━━━━━━━━━━━━━━━━━━━━━━━━━━━━┳━━━━━━━━━━━━━━━━━┓\n",
       "┃\u001b[1m \u001b[0m\u001b[1mLayer (type)                        \u001b[0m\u001b[1m \u001b[0m┃\u001b[1m \u001b[0m\u001b[1mOutput Shape               \u001b[0m\u001b[1m \u001b[0m┃\u001b[1m \u001b[0m\u001b[1m        Param #\u001b[0m\u001b[1m \u001b[0m┃\n",
       "┡━━━━━━━━━━━━━━━━━━━━━━━━━━━━━━━━━━━━━━╇━━━━━━━━━━━━━━━━━━━━━━━━━━━━━╇━━━━━━━━━━━━━━━━━┩\n",
       "│ conv2d (\u001b[38;5;33mConv2D\u001b[0m)                      │ (\u001b[38;5;45mNone\u001b[0m, \u001b[38;5;34m128\u001b[0m, \u001b[38;5;34m128\u001b[0m, \u001b[38;5;34m32\u001b[0m)        │             \u001b[38;5;34m896\u001b[0m │\n",
       "├──────────────────────────────────────┼─────────────────────────────┼─────────────────┤\n",
       "│ conv2d_1 (\u001b[38;5;33mConv2D\u001b[0m)                    │ (\u001b[38;5;45mNone\u001b[0m, \u001b[38;5;34m128\u001b[0m, \u001b[38;5;34m128\u001b[0m, \u001b[38;5;34m32\u001b[0m)        │           \u001b[38;5;34m9,248\u001b[0m │\n",
       "├──────────────────────────────────────┼─────────────────────────────┼─────────────────┤\n",
       "│ max_pooling2d (\u001b[38;5;33mMaxPooling2D\u001b[0m)         │ (\u001b[38;5;45mNone\u001b[0m, \u001b[38;5;34m64\u001b[0m, \u001b[38;5;34m64\u001b[0m, \u001b[38;5;34m32\u001b[0m)          │               \u001b[38;5;34m0\u001b[0m │\n",
       "├──────────────────────────────────────┼─────────────────────────────┼─────────────────┤\n",
       "│ conv2d_2 (\u001b[38;5;33mConv2D\u001b[0m)                    │ (\u001b[38;5;45mNone\u001b[0m, \u001b[38;5;34m64\u001b[0m, \u001b[38;5;34m64\u001b[0m, \u001b[38;5;34m32\u001b[0m)          │           \u001b[38;5;34m9,248\u001b[0m │\n",
       "├──────────────────────────────────────┼─────────────────────────────┼─────────────────┤\n",
       "│ conv2d_3 (\u001b[38;5;33mConv2D\u001b[0m)                    │ (\u001b[38;5;45mNone\u001b[0m, \u001b[38;5;34m64\u001b[0m, \u001b[38;5;34m64\u001b[0m, \u001b[38;5;34m32\u001b[0m)          │           \u001b[38;5;34m9,248\u001b[0m │\n",
       "├──────────────────────────────────────┼─────────────────────────────┼─────────────────┤\n",
       "│ max_pooling2d_1 (\u001b[38;5;33mMaxPooling2D\u001b[0m)       │ (\u001b[38;5;45mNone\u001b[0m, \u001b[38;5;34m32\u001b[0m, \u001b[38;5;34m32\u001b[0m, \u001b[38;5;34m32\u001b[0m)          │               \u001b[38;5;34m0\u001b[0m │\n",
       "├──────────────────────────────────────┼─────────────────────────────┼─────────────────┤\n",
       "│ conv2d_4 (\u001b[38;5;33mConv2D\u001b[0m)                    │ (\u001b[38;5;45mNone\u001b[0m, \u001b[38;5;34m32\u001b[0m, \u001b[38;5;34m32\u001b[0m, \u001b[38;5;34m64\u001b[0m)          │          \u001b[38;5;34m18,496\u001b[0m │\n",
       "├──────────────────────────────────────┼─────────────────────────────┼─────────────────┤\n",
       "│ conv2d_5 (\u001b[38;5;33mConv2D\u001b[0m)                    │ (\u001b[38;5;45mNone\u001b[0m, \u001b[38;5;34m32\u001b[0m, \u001b[38;5;34m32\u001b[0m, \u001b[38;5;34m64\u001b[0m)          │          \u001b[38;5;34m36,928\u001b[0m │\n",
       "├──────────────────────────────────────┼─────────────────────────────┼─────────────────┤\n",
       "│ max_pooling2d_2 (\u001b[38;5;33mMaxPooling2D\u001b[0m)       │ (\u001b[38;5;45mNone\u001b[0m, \u001b[38;5;34m16\u001b[0m, \u001b[38;5;34m16\u001b[0m, \u001b[38;5;34m64\u001b[0m)          │               \u001b[38;5;34m0\u001b[0m │\n",
       "├──────────────────────────────────────┼─────────────────────────────┼─────────────────┤\n",
       "│ conv2d_6 (\u001b[38;5;33mConv2D\u001b[0m)                    │ (\u001b[38;5;45mNone\u001b[0m, \u001b[38;5;34m16\u001b[0m, \u001b[38;5;34m16\u001b[0m, \u001b[38;5;34m128\u001b[0m)         │          \u001b[38;5;34m73,856\u001b[0m │\n",
       "├──────────────────────────────────────┼─────────────────────────────┼─────────────────┤\n",
       "│ conv2d_7 (\u001b[38;5;33mConv2D\u001b[0m)                    │ (\u001b[38;5;45mNone\u001b[0m, \u001b[38;5;34m16\u001b[0m, \u001b[38;5;34m16\u001b[0m, \u001b[38;5;34m128\u001b[0m)         │         \u001b[38;5;34m147,584\u001b[0m │\n",
       "├──────────────────────────────────────┼─────────────────────────────┼─────────────────┤\n",
       "│ max_pooling2d_3 (\u001b[38;5;33mMaxPooling2D\u001b[0m)       │ (\u001b[38;5;45mNone\u001b[0m, \u001b[38;5;34m8\u001b[0m, \u001b[38;5;34m8\u001b[0m, \u001b[38;5;34m128\u001b[0m)           │               \u001b[38;5;34m0\u001b[0m │\n",
       "├──────────────────────────────────────┼─────────────────────────────┼─────────────────┤\n",
       "│ conv2d_8 (\u001b[38;5;33mConv2D\u001b[0m)                    │ (\u001b[38;5;45mNone\u001b[0m, \u001b[38;5;34m8\u001b[0m, \u001b[38;5;34m8\u001b[0m, \u001b[38;5;34m256\u001b[0m)           │         \u001b[38;5;34m295,168\u001b[0m │\n",
       "├──────────────────────────────────────┼─────────────────────────────┼─────────────────┤\n",
       "│ conv2d_9 (\u001b[38;5;33mConv2D\u001b[0m)                    │ (\u001b[38;5;45mNone\u001b[0m, \u001b[38;5;34m8\u001b[0m, \u001b[38;5;34m8\u001b[0m, \u001b[38;5;34m256\u001b[0m)           │         \u001b[38;5;34m590,080\u001b[0m │\n",
       "├──────────────────────────────────────┼─────────────────────────────┼─────────────────┤\n",
       "│ max_pooling2d_4 (\u001b[38;5;33mMaxPooling2D\u001b[0m)       │ (\u001b[38;5;45mNone\u001b[0m, \u001b[38;5;34m4\u001b[0m, \u001b[38;5;34m4\u001b[0m, \u001b[38;5;34m256\u001b[0m)           │               \u001b[38;5;34m0\u001b[0m │\n",
       "├──────────────────────────────────────┼─────────────────────────────┼─────────────────┤\n",
       "│ conv2d_10 (\u001b[38;5;33mConv2D\u001b[0m)                   │ (\u001b[38;5;45mNone\u001b[0m, \u001b[38;5;34m4\u001b[0m, \u001b[38;5;34m4\u001b[0m, \u001b[38;5;34m512\u001b[0m)           │       \u001b[38;5;34m1,180,160\u001b[0m │\n",
       "├──────────────────────────────────────┼─────────────────────────────┼─────────────────┤\n",
       "│ conv2d_11 (\u001b[38;5;33mConv2D\u001b[0m)                   │ (\u001b[38;5;45mNone\u001b[0m, \u001b[38;5;34m4\u001b[0m, \u001b[38;5;34m4\u001b[0m, \u001b[38;5;34m512\u001b[0m)           │       \u001b[38;5;34m2,359,808\u001b[0m │\n",
       "├──────────────────────────────────────┼─────────────────────────────┼─────────────────┤\n",
       "│ max_pooling2d_5 (\u001b[38;5;33mMaxPooling2D\u001b[0m)       │ (\u001b[38;5;45mNone\u001b[0m, \u001b[38;5;34m2\u001b[0m, \u001b[38;5;34m2\u001b[0m, \u001b[38;5;34m512\u001b[0m)           │               \u001b[38;5;34m0\u001b[0m │\n",
       "├──────────────────────────────────────┼─────────────────────────────┼─────────────────┤\n",
       "│ dropout (\u001b[38;5;33mDropout\u001b[0m)                    │ (\u001b[38;5;45mNone\u001b[0m, \u001b[38;5;34m2\u001b[0m, \u001b[38;5;34m2\u001b[0m, \u001b[38;5;34m512\u001b[0m)           │               \u001b[38;5;34m0\u001b[0m │\n",
       "├──────────────────────────────────────┼─────────────────────────────┼─────────────────┤\n",
       "│ flatten (\u001b[38;5;33mFlatten\u001b[0m)                    │ (\u001b[38;5;45mNone\u001b[0m, \u001b[38;5;34m2048\u001b[0m)                │               \u001b[38;5;34m0\u001b[0m │\n",
       "├──────────────────────────────────────┼─────────────────────────────┼─────────────────┤\n",
       "│ dense (\u001b[38;5;33mDense\u001b[0m)                        │ (\u001b[38;5;45mNone\u001b[0m, \u001b[38;5;34m1500\u001b[0m)                │       \u001b[38;5;34m3,073,500\u001b[0m │\n",
       "├──────────────────────────────────────┼─────────────────────────────┼─────────────────┤\n",
       "│ dropout_1 (\u001b[38;5;33mDropout\u001b[0m)                  │ (\u001b[38;5;45mNone\u001b[0m, \u001b[38;5;34m1500\u001b[0m)                │               \u001b[38;5;34m0\u001b[0m │\n",
       "├──────────────────────────────────────┼─────────────────────────────┼─────────────────┤\n",
       "│ dense_1 (\u001b[38;5;33mDense\u001b[0m)                      │ (\u001b[38;5;45mNone\u001b[0m, \u001b[38;5;34m512\u001b[0m)                 │         \u001b[38;5;34m768,512\u001b[0m │\n",
       "├──────────────────────────────────────┼─────────────────────────────┼─────────────────┤\n",
       "│ dense_2 (\u001b[38;5;33mDense\u001b[0m)                      │ (\u001b[38;5;45mNone\u001b[0m, \u001b[38;5;34m256\u001b[0m)                 │         \u001b[38;5;34m131,328\u001b[0m │\n",
       "├──────────────────────────────────────┼─────────────────────────────┼─────────────────┤\n",
       "│ dense_3 (\u001b[38;5;33mDense\u001b[0m)                      │ (\u001b[38;5;45mNone\u001b[0m, \u001b[38;5;34m38\u001b[0m)                  │           \u001b[38;5;34m9,766\u001b[0m │\n",
       "└──────────────────────────────────────┴─────────────────────────────┴─────────────────┘\n"
      ]
     },
     "metadata": {},
     "output_type": "display_data"
    },
    {
     "data": {
      "text/html": [
       "<pre style=\"white-space:pre;overflow-x:auto;line-height:normal;font-family:Menlo,'DejaVu Sans Mono',consolas,'Courier New',monospace\"><span style=\"font-weight: bold\"> Total params: </span><span style=\"color: #00af00; text-decoration-color: #00af00\">8,713,826</span> (33.24 MB)\n",
       "</pre>\n"
      ],
      "text/plain": [
       "\u001b[1m Total params: \u001b[0m\u001b[38;5;34m8,713,826\u001b[0m (33.24 MB)\n"
      ]
     },
     "metadata": {},
     "output_type": "display_data"
    },
    {
     "data": {
      "text/html": [
       "<pre style=\"white-space:pre;overflow-x:auto;line-height:normal;font-family:Menlo,'DejaVu Sans Mono',consolas,'Courier New',monospace\"><span style=\"font-weight: bold\"> Trainable params: </span><span style=\"color: #00af00; text-decoration-color: #00af00\">8,713,826</span> (33.24 MB)\n",
       "</pre>\n"
      ],
      "text/plain": [
       "\u001b[1m Trainable params: \u001b[0m\u001b[38;5;34m8,713,826\u001b[0m (33.24 MB)\n"
      ]
     },
     "metadata": {},
     "output_type": "display_data"
    },
    {
     "data": {
      "text/html": [
       "<pre style=\"white-space:pre;overflow-x:auto;line-height:normal;font-family:Menlo,'DejaVu Sans Mono',consolas,'Courier New',monospace\"><span style=\"font-weight: bold\"> Non-trainable params: </span><span style=\"color: #00af00; text-decoration-color: #00af00\">0</span> (0.00 B)\n",
       "</pre>\n"
      ],
      "text/plain": [
       "\u001b[1m Non-trainable params: \u001b[0m\u001b[38;5;34m0\u001b[0m (0.00 B)\n"
      ]
     },
     "metadata": {},
     "output_type": "display_data"
    }
   ],
   "source": [
    "model.summary()"
   ]
  },
  {
   "cell_type": "code",
   "execution_count": 23,
   "id": "e538951b-75dc-4c0d-aa1b-7a08c95654a6",
   "metadata": {},
   "outputs": [],
   "source": [
    "model.compile(optimizer=tf.keras.optimizers.Adam(\n",
    "    learning_rate=0.0001,\n",
    "),loss='categorical_crossentropy',\n",
    "              metrics=['accuracy'])"
   ]
  },
  {
   "cell_type": "code",
   "execution_count": null,
   "id": "8310eb9e-b7d5-4664-9f51-2c5aa7b0662e",
   "metadata": {},
   "outputs": [],
   "source": [
    "##compiling model\n"
   ]
  },
  {
   "cell_type": "code",
   "execution_count": null,
   "id": "e344e071-21f3-4aa0-a1f0-13436a20cc4f",
   "metadata": {},
   "outputs": [],
   "source": [
    "##model training\n"
   ]
  },
  {
   "cell_type": "code",
   "execution_count": 24,
   "id": "eb3c2057-e888-4600-95f3-c4ff15b70c4e",
   "metadata": {},
   "outputs": [
    {
     "name": "stdout",
     "output_type": "stream",
     "text": [
      "Epoch 1/10\n",
      "\u001b[1m2197/2197\u001b[0m \u001b[32m━━━━━━━━━━━━━━━━━━━━\u001b[0m\u001b[37m\u001b[0m \u001b[1m1592s\u001b[0m 721ms/step - accuracy: 0.2834 - loss: 2.5655 - val_accuracy: 0.7851 - val_loss: 0.6783\n",
      "Epoch 2/10\n",
      "\u001b[1m2197/2197\u001b[0m \u001b[32m━━━━━━━━━━━━━━━━━━━━\u001b[0m\u001b[37m\u001b[0m \u001b[1m1491s\u001b[0m 678ms/step - accuracy: 0.8014 - loss: 0.6319 - val_accuracy: 0.8756 - val_loss: 0.3832\n",
      "Epoch 3/10\n",
      "\u001b[1m2197/2197\u001b[0m \u001b[32m━━━━━━━━━━━━━━━━━━━━\u001b[0m\u001b[37m\u001b[0m \u001b[1m1526s\u001b[0m 694ms/step - accuracy: 0.8864 - loss: 0.3569 - val_accuracy: 0.9076 - val_loss: 0.2950\n",
      "Epoch 4/10\n",
      "\u001b[1m2197/2197\u001b[0m \u001b[32m━━━━━━━━━━━━━━━━━━━━\u001b[0m\u001b[37m\u001b[0m \u001b[1m1558s\u001b[0m 709ms/step - accuracy: 0.9210 - loss: 0.2396 - val_accuracy: 0.9321 - val_loss: 0.2108\n",
      "Epoch 5/10\n",
      "\u001b[1m2197/2197\u001b[0m \u001b[32m━━━━━━━━━━━━━━━━━━━━\u001b[0m\u001b[37m\u001b[0m \u001b[1m2357s\u001b[0m 1s/step - accuracy: 0.9435 - loss: 0.1751 - val_accuracy: 0.9331 - val_loss: 0.2062\n",
      "Epoch 6/10\n",
      "\u001b[1m2197/2197\u001b[0m \u001b[32m━━━━━━━━━━━━━━━━━━━━\u001b[0m\u001b[37m\u001b[0m \u001b[1m1270s\u001b[0m 578ms/step - accuracy: 0.9555 - loss: 0.1358 - val_accuracy: 0.9492 - val_loss: 0.1551\n",
      "Epoch 7/10\n",
      "\u001b[1m2197/2197\u001b[0m \u001b[32m━━━━━━━━━━━━━━━━━━━━\u001b[0m\u001b[37m\u001b[0m \u001b[1m1839s\u001b[0m 837ms/step - accuracy: 0.9646 - loss: 0.1086 - val_accuracy: 0.9476 - val_loss: 0.1789\n",
      "Epoch 8/10\n",
      "\u001b[1m2197/2197\u001b[0m \u001b[32m━━━━━━━━━━━━━━━━━━━━\u001b[0m\u001b[37m\u001b[0m \u001b[1m1985s\u001b[0m 903ms/step - accuracy: 0.9715 - loss: 0.0934 - val_accuracy: 0.9508 - val_loss: 0.1667\n",
      "Epoch 9/10\n",
      "\u001b[1m2197/2197\u001b[0m \u001b[32m━━━━━━━━━━━━━━━━━━━━\u001b[0m\u001b[37m\u001b[0m \u001b[1m1930s\u001b[0m 878ms/step - accuracy: 0.9756 - loss: 0.0766 - val_accuracy: 0.9565 - val_loss: 0.1544\n",
      "Epoch 10/10\n",
      "\u001b[1m2197/2197\u001b[0m \u001b[32m━━━━━━━━━━━━━━━━━━━━\u001b[0m\u001b[37m\u001b[0m \u001b[1m1762s\u001b[0m 802ms/step - accuracy: 0.9795 - loss: 0.0679 - val_accuracy: 0.9524 - val_loss: 0.1601\n"
     ]
    }
   ],
   "source": [
    "training_history = model.fit(\n",
    "    training_set,\n",
    "    validation_data=validation_set,\n",
    "    epochs=10\n",
    ")"
   ]
  },
  {
   "cell_type": "code",
   "execution_count": 25,
   "id": "ec4bf0d9-b415-48bf-887e-0b1d82f322bb",
   "metadata": {},
   "outputs": [
    {
     "name": "stdout",
     "output_type": "stream",
     "text": [
      "\u001b[1m2197/2197\u001b[0m \u001b[32m━━━━━━━━━━━━━━━━━━━━\u001b[0m\u001b[37m\u001b[0m \u001b[1m450s\u001b[0m 205ms/step - accuracy: 0.9825 - loss: 0.0562\n"
     ]
    }
   ],
   "source": [
    "train_loss,train_acc =model.evaluate(training_set)"
   ]
  },
  {
   "cell_type": "code",
   "execution_count": 26,
   "id": "f242870b-a818-4bfc-9392-058f5cdf62de",
   "metadata": {},
   "outputs": [
    {
     "name": "stdout",
     "output_type": "stream",
     "text": [
      "0.049984630197286606 0.9844796657562256\n"
     ]
    }
   ],
   "source": [
    "print(train_loss,train_acc)"
   ]
  },
  {
   "cell_type": "code",
   "execution_count": 27,
   "id": "8907e6e3-1d96-45e3-84fc-ed5da9431e9f",
   "metadata": {},
   "outputs": [
    {
     "name": "stdout",
     "output_type": "stream",
     "text": [
      "\u001b[1m550/550\u001b[0m \u001b[32m━━━━━━━━━━━━━━━━━━━━\u001b[0m\u001b[37m\u001b[0m \u001b[1m86s\u001b[0m 156ms/step - accuracy: 0.9511 - loss: 0.1656\n"
     ]
    }
   ],
   "source": [
    "#model on validation set\n",
    "train_loss,train_acc =model.evaluate(validation_set)"
   ]
  },
  {
   "cell_type": "code",
   "execution_count": 28,
   "id": "e7e5c4d3-b5f2-4f93-a6d2-e5f295f27c7f",
   "metadata": {},
   "outputs": [
    {
     "name": "stderr",
     "output_type": "stream",
     "text": [
      "WARNING:absl:You are saving your model as an HDF5 file via `model.save()` or `keras.saving.save_model(model)`. This file format is considered legacy. We recommend using instead the native Keras format, e.g. `model.save('my_model.keras')` or `keras.saving.save_model(model, 'my_model.keras')`. \n"
     ]
    }
   ],
   "source": [
    "model.save(\"trained_model.h5\")"
   ]
  },
  {
   "cell_type": "code",
   "execution_count": 29,
   "id": "b720dd0e-4861-42cc-a5f2-878ba735497b",
   "metadata": {},
   "outputs": [],
   "source": [
    "model.save(\"trained_model.keras\")\n"
   ]
  },
  {
   "cell_type": "code",
   "execution_count": 30,
   "id": "9892b325-9123-4200-b974-675744299209",
   "metadata": {},
   "outputs": [],
   "source": [
    "if 'training_history' in globals():\n",
    "    # Variable is defined, proceed with using it\n",
    "    training_history.history\n",
    "else:\n",
    "    # Variable is not defined, handle the error\n",
    "    print(\"Error: Variable 'training_history' is not defined.\")"
   ]
  },
  {
   "cell_type": "code",
   "execution_count": 31,
   "id": "81d918cb-8cab-4c5e-80b2-fdb79bbb4476",
   "metadata": {},
   "outputs": [],
   "source": [
    "#recording history in json\n",
    "import json\n",
    "with open('history.json', 'w') as f:\n",
    "    json.dump(training_history.history, f)"
   ]
  },
  {
   "cell_type": "code",
   "execution_count": 36,
   "id": "69f8d223-2af9-4d32-a1b5-8b3da16a61aa",
   "metadata": {},
   "outputs": [
    {
     "name": "stdout",
     "output_type": "stream",
     "text": [
      "dict_keys(['accuracy', 'loss', 'val_accuracy', 'val_loss'])\n"
     ]
    }
   ],
   "source": [
    "\n",
    "print(training_history.history.keys())"
   ]
  },
  {
   "cell_type": "code",
   "execution_count": 32,
   "id": "5e2c20f3-3b39-494a-b83c-9bddbc3c45e7",
   "metadata": {},
   "outputs": [
    {
     "data": {
      "text/plain": [
       "[0.7851126790046692,\n",
       " 0.8755975365638733,\n",
       " 0.9075802564620972,\n",
       " 0.9321079254150391,\n",
       " 0.9330753684043884,\n",
       " 0.949180543422699,\n",
       " 0.9475870728492737,\n",
       " 0.95083087682724,\n",
       " 0.95652174949646,\n",
       " 0.9524242877960205]"
      ]
     },
     "execution_count": 32,
     "metadata": {},
     "output_type": "execute_result"
    }
   ],
   "source": [
    "training_history.history['val_accuracy']"
   ]
  },
  {
   "cell_type": "code",
   "execution_count": null,
   "id": "5c869193-05a6-4590-8203-41de04950ccd",
   "metadata": {},
   "outputs": [],
   "source": [
    "### Accuracy Visulazation"
   ]
  },
  {
   "cell_type": "code",
   "execution_count": 37,
   "id": "a7fc69fc-6e53-487d-a4ee-7a1477d5702f",
   "metadata": {},
   "outputs": [
    {
     "data": {
      "image/png": "[encoded data removed]",
      "text/plain": [
       "<Figure size 640x480 with 1 Axes>"
      ]
     },
     "metadata": {},
     "output_type": "display_data"
    }
   ],
   "source": [
    "epochs = [i for i in range(1,11)]\n",
    "plt.plot(epochs,training_history.history['accuracy'],color='red',label='Training Accuracy')\n",
    "plt.plot(epochs,training_history.history['val_accuracy'],color='blue',label='Validation Accuracy')\n",
    "plt.xlabel('No. of Epochs')\n",
    "plt.title('Visualization of Accuracy Result')\n",
    "plt.legend()\n",
    "plt.show()"
   ]
  },
  {
   "cell_type": "code",
   "execution_count": 38,
   "id": "851aa0b4-bc45-4a46-a352-34dc74e7314c",
   "metadata": {},
   "outputs": [],
   "source": [
    "class_name = validation_set.class_names\n"
   ]
  },
  {
   "cell_type": "code",
   "execution_count": 54,
   "id": "8a08416d-36b2-42e4-8ecf-51bd3a580560",
   "metadata": {},
   "outputs": [
    {
     "data": {
      "text/plain": [
       "['Apple___Apple_scab',\n",
       " 'Apple___Black_rot',\n",
       " 'Apple___Cedar_apple_rust',\n",
       " 'Apple___healthy',\n",
       " 'Blueberry___healthy',\n",
       " 'Cherry_(including_sour)___Powdery_mildew',\n",
       " 'Cherry_(including_sour)___healthy',\n",
       " 'Corn_(maize)___Cercospora_leaf_spot Gray_leaf_spot',\n",
       " 'Corn_(maize)___Common_rust_',\n",
       " 'Corn_(maize)___Northern_Leaf_Blight',\n",
       " 'Corn_(maize)___healthy',\n",
       " 'Grape___Black_rot',\n",
       " 'Grape___Esca_(Black_Measles)',\n",
       " 'Grape___Leaf_blight_(Isariopsis_Leaf_Spot)',\n",
       " 'Grape___healthy',\n",
       " 'Orange___Haunglongbing_(Citrus_greening)',\n",
       " 'Peach___Bacterial_spot',\n",
       " 'Peach___healthy',\n",
       " 'Pepper,_bell___Bacterial_spot',\n",
       " 'Pepper,_bell___healthy',\n",
       " 'Potato___Early_blight',\n",
       " 'Potato___Late_blight',\n",
       " 'Potato___healthy',\n",
       " 'Raspberry___healthy',\n",
       " 'Soybean___healthy',\n",
       " 'Squash___Powdery_mildew',\n",
       " 'Strawberry___Leaf_scorch',\n",
       " 'Strawberry___healthy',\n",
       " 'Tomato___Bacterial_spot',\n",
       " 'Tomato___Early_blight',\n",
       " 'Tomato___Late_blight',\n",
       " 'Tomato___Leaf_Mold',\n",
       " 'Tomato___Septoria_leaf_spot',\n",
       " 'Tomato___Spider_mites Two-spotted_spider_mite',\n",
       " 'Tomato___Target_Spot',\n",
       " 'Tomato___Tomato_Yellow_Leaf_Curl_Virus',\n",
       " 'Tomato___Tomato_mosaic_virus',\n",
       " 'Tomato___healthy']"
      ]
     },
     "execution_count": 54,
     "metadata": {},
     "output_type": "execute_result"
    }
   ],
   "source": [
    "class_name"
   ]
  },
  {
   "cell_type": "code",
   "execution_count": 39,
   "id": "1bde287d-da44-4597-aa5f-54396be5d08f",
   "metadata": {},
   "outputs": [
    {
     "name": "stdout",
     "output_type": "stream",
     "text": [
      "Found 17572 files belonging to 38 classes.\n"
     ]
    }
   ],
   "source": [
    "\n",
    "test_set = tf.keras.utils.image_dataset_from_directory(\n",
    "    'valid',\n",
    "    labels=\"inferred\",\n",
    "    label_mode=\"categorical\",\n",
    "    class_names=None,\n",
    "    color_mode=\"rgb\",\n",
    "    batch_size=1,\n",
    "    image_size=(128, 128),\n",
    "    shuffle=False,\n",
    "    seed=None,\n",
    "    validation_split=None,\n",
    "    subset=None,\n",
    "    interpolation=\"bilinear\",\n",
    "    follow_links=False,\n",
    "    crop_to_aspect_ratio=False\n",
    ")"
   ]
  },
  {
   "cell_type": "code",
   "execution_count": 40,
   "id": "d9d0177b-2f7c-4fcf-9bcd-32d0ab95d727",
   "metadata": {},
   "outputs": [
    {
     "name": "stdout",
     "output_type": "stream",
     "text": [
      "\u001b[1m17572/17572\u001b[0m \u001b[32m━━━━━━━━━━━━━━━━━━━━\u001b[0m\u001b[37m\u001b[0m \u001b[1m285s\u001b[0m 16ms/step\n"
     ]
    },
    {
     "data": {
      "text/plain": [
       "(array([[9.9999821e-01, 3.2211201e-08, 3.6787694e-11, ..., 1.1680522e-13,\n",
       "         1.2537211e-12, 7.8943949e-11],\n",
       "        [9.9999964e-01, 5.2282616e-08, 1.7583076e-11, ..., 7.5986098e-15,\n",
       "         2.6985036e-13, 1.2851350e-11],\n",
       "        [1.0000000e+00, 1.0237438e-11, 1.4600769e-14, ..., 3.3192409e-18,\n",
       "         3.9840274e-16, 6.1512935e-14],\n",
       "        ...,\n",
       "        [2.3370518e-08, 5.3269104e-12, 4.4041329e-07, ..., 1.2402665e-12,\n",
       "         1.1105746e-08, 9.9999630e-01],\n",
       "        [8.2834845e-10, 2.3481644e-14, 2.0790715e-08, ..., 1.7597879e-14,\n",
       "         2.8120686e-10, 9.9999952e-01],\n",
       "        [5.6191076e-12, 3.0921910e-14, 2.2688941e-10, ..., 2.7992020e-16,\n",
       "         2.1494851e-11, 9.9999976e-01]], dtype=float32),\n",
       " (17572, 38))"
      ]
     },
     "execution_count": 40,
     "metadata": {},
     "output_type": "execute_result"
    }
   ],
   "source": [
    "y_pred=model.predict(test_set)\n",
    "y_pred,y_pred.shape"
   ]
  },
  {
   "cell_type": "code",
   "execution_count": 41,
   "id": "b85bd36c-46ce-4aa6-ab4f-5461d305bd38",
   "metadata": {},
   "outputs": [],
   "source": [
    "predicted_categories = tf.argmax(y_pred,axis=1)"
   ]
  },
  {
   "cell_type": "code",
   "execution_count": 42,
   "id": "d4876226-db82-41f4-b1ac-e4f62944ae32",
   "metadata": {},
   "outputs": [
    {
     "data": {
      "text/plain": [
       "<tf.Tensor: shape=(17572,), dtype=int64, numpy=array([ 0,  0,  0, ..., 37, 37, 37], dtype=int64)>"
      ]
     },
     "execution_count": 42,
     "metadata": {},
     "output_type": "execute_result"
    }
   ],
   "source": [
    "predicted_categories"
   ]
  },
  {
   "cell_type": "code",
   "execution_count": 43,
   "id": "449742e4-567f-4a64-8e74-d53a10d842f3",
   "metadata": {},
   "outputs": [
    {
     "data": {
      "text/plain": [
       "<tf.Tensor: shape=(17572, 38), dtype=float32, numpy=\n",
       "array([[1., 0., 0., ..., 0., 0., 0.],\n",
       "       [1., 0., 0., ..., 0., 0., 0.],\n",
       "       [1., 0., 0., ..., 0., 0., 0.],\n",
       "       ...,\n",
       "       [0., 0., 0., ..., 0., 0., 1.],\n",
       "       [0., 0., 0., ..., 0., 0., 1.],\n",
       "       [0., 0., 0., ..., 0., 0., 1.]], dtype=float32)>"
      ]
     },
     "execution_count": 43,
     "metadata": {},
     "output_type": "execute_result"
    }
   ],
   "source": [
    "true_categories = tf.concat([y for x,y in test_set],axis=0)\n",
    "true_categories"
   ]
  },
  {
   "cell_type": "code",
   "execution_count": 44,
   "id": "3c42fa21-9f9f-48a3-9a9e-d4523914ef03",
   "metadata": {},
   "outputs": [
    {
     "data": {
      "text/plain": [
       "<tf.Tensor: shape=(17572,), dtype=int64, numpy=array([ 0,  0,  0, ..., 37, 37, 37], dtype=int64)>"
      ]
     },
     "execution_count": 44,
     "metadata": {},
     "output_type": "execute_result"
    }
   ],
   "source": [
    "y_true=tf.argmax(true_categories,axis=1)\n",
    "y_true"
   ]
  },
  {
   "cell_type": "code",
   "execution_count": 52,
   "id": "8993b97d-d4d6-4b58-adfa-9d788fd631f6",
   "metadata": {},
   "outputs": [],
   "source": [
    "from sklearn.metrics import confusion_matrix,classification_report\n",
    "cm = confusion_matrix(y_true,predicted_categories)"
   ]
  },
  {
   "cell_type": "code",
   "execution_count": 45,
   "id": "e7cc4006-ad4a-487e-9e53-21d324cbc007",
   "metadata": {},
   "outputs": [],
   "source": [
    "from sklearn.metrics import classification_report"
   ]
  },
  {
   "cell_type": "code",
   "execution_count": 46,
   "id": "bb19a1d5-8a3c-400f-8996-e27d5268efe1",
   "metadata": {},
   "outputs": [
    {
     "name": "stdout",
     "output_type": "stream",
     "text": [
      "                                                    precision    recall  f1-score   support\n",
      "\n",
      "                                Apple___Apple_scab       0.92      0.97      0.94       504\n",
      "                                 Apple___Black_rot       0.86      0.97      0.91       497\n",
      "                          Apple___Cedar_apple_rust       0.97      0.95      0.96       440\n",
      "                                   Apple___healthy       0.94      0.95      0.95       502\n",
      "                               Blueberry___healthy       0.98      0.93      0.95       454\n",
      "          Cherry_(including_sour)___Powdery_mildew       0.99      0.97      0.98       421\n",
      "                 Cherry_(including_sour)___healthy       0.98      0.98      0.98       456\n",
      "Corn_(maize)___Cercospora_leaf_spot Gray_leaf_spot       0.95      0.90      0.92       410\n",
      "                       Corn_(maize)___Common_rust_       0.98      1.00      0.99       477\n",
      "               Corn_(maize)___Northern_Leaf_Blight       0.92      0.97      0.94       477\n",
      "                            Corn_(maize)___healthy       0.99      1.00      1.00       465\n",
      "                                 Grape___Black_rot       0.88      1.00      0.93       472\n",
      "                      Grape___Esca_(Black_Measles)       1.00      0.90      0.95       480\n",
      "        Grape___Leaf_blight_(Isariopsis_Leaf_Spot)       0.99      0.98      0.98       430\n",
      "                                   Grape___healthy       0.97      1.00      0.98       423\n",
      "          Orange___Haunglongbing_(Citrus_greening)       0.96      1.00      0.98       503\n",
      "                            Peach___Bacterial_spot       0.96      0.94      0.95       459\n",
      "                                   Peach___healthy       0.98      0.98      0.98       432\n",
      "                     Pepper,_bell___Bacterial_spot       0.98      0.79      0.88       478\n",
      "                            Pepper,_bell___healthy       0.95      0.94      0.95       497\n",
      "                             Potato___Early_blight       0.98      0.96      0.97       485\n",
      "                              Potato___Late_blight       0.95      0.95      0.95       485\n",
      "                                  Potato___healthy       0.91      0.99      0.95       456\n",
      "                               Raspberry___healthy       0.97      0.98      0.98       445\n",
      "                                 Soybean___healthy       0.96      0.99      0.97       505\n",
      "                           Squash___Powdery_mildew       0.99      0.99      0.99       434\n",
      "                          Strawberry___Leaf_scorch       0.98      0.99      0.99       444\n",
      "                              Strawberry___healthy       0.99      0.99      0.99       456\n",
      "                           Tomato___Bacterial_spot       0.97      0.88      0.92       425\n",
      "                             Tomato___Early_blight       0.87      0.90      0.89       480\n",
      "                              Tomato___Late_blight       0.92      0.90      0.91       463\n",
      "                                Tomato___Leaf_Mold       0.99      0.89      0.94       470\n",
      "                       Tomato___Septoria_leaf_spot       0.91      0.81      0.86       436\n",
      "     Tomato___Spider_mites Two-spotted_spider_mite       0.95      0.95      0.95       435\n",
      "                              Tomato___Target_Spot       0.86      0.92      0.89       457\n",
      "            Tomato___Tomato_Yellow_Leaf_Curl_Virus       0.98      0.99      0.98       490\n",
      "                      Tomato___Tomato_mosaic_virus       0.99      0.99      0.99       448\n",
      "                                  Tomato___healthy       0.94      0.99      0.97       481\n",
      "\n",
      "                                          accuracy                           0.95     17572\n",
      "                                         macro avg       0.95      0.95      0.95     17572\n",
      "                                      weighted avg       0.95      0.95      0.95     17572\n",
      "\n"
     ]
    }
   ],
   "source": [
    "print(classification_report(y_true,predicted_categories,target_names=class_name))"
   ]
  },
  {
   "cell_type": "code",
   "execution_count": null,
   "id": "000d8948-db2f-4150-8567-c5cb77c16663",
   "metadata": {},
   "outputs": [],
   "source": [
    "## confusion Matrix Visulaization"
   ]
  },
  {
   "cell_type": "code",
   "execution_count": 53,
   "id": "53afc210-69d9-46ec-9686-bd8442a52d77",
   "metadata": {},
   "outputs": [
    {
     "data": {
      "image/png": "[encoded data removed]",
      "text/plain": [
       "<Figure size 4000x4000 with 2 Axes>"
      ]
     },
     "metadata": {},
     "output_type": "display_data"
    }
   ],
   "source": [
    "plt.figure(figsize=(40, 40))\n",
    "sns.heatmap(cm,annot=True,annot_kws={\"size\": 10})\n",
    "\n",
    "plt.xlabel('Predicted Class',fontsize = 20)\n",
    "plt.ylabel('Actual Class',fontsize = 20)\n",
    "plt.title('Plant Disease Prediction Confusion Matrix',fontsize = 25)\n",
    "plt.show()"
   ]
  }
 ],
 "metadata": {
  "kernelspec": {
   "display_name": "Python 3 (ipykernel)",
   "language": "python",
   "name": "python3"
  },
  "language_info": {
   "codemirror_mode": {
    "name": "ipython",
    "version": 3
   },
   "file_extension": ".py",
   "mimetype": "text/x-python",
   "name": "python",
   "nbconvert_exporter": "python",
   "pygments_lexer": "ipython3",
   "version": "3.11.7"
  }
 },
 "nbformat": 4,
 "nbformat_minor": 5
}
